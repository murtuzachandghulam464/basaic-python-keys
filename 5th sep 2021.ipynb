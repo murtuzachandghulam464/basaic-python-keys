{
 "cells": [
  {
   "cell_type": "code",
   "execution_count": 2,
   "id": "ddb8d4f0",
   "metadata": {},
   "outputs": [
    {
     "data": {
      "text/plain": [
       "4"
      ]
     },
     "execution_count": 2,
     "metadata": {},
     "output_type": "execute_result"
    }
   ],
   "source": [
    "2+2"
   ]
  },
  {
   "cell_type": "markdown",
   "id": "e0acee9b",
   "metadata": {},
   "source": [
    "### join string and number"
   ]
  },
  {
   "cell_type": "code",
   "execution_count": 9,
   "id": "285978c1",
   "metadata": {},
   "outputs": [
    {
     "data": {
      "text/plain": [
       "'day 2'"
      ]
     },
     "execution_count": 9,
     "metadata": {},
     "output_type": "execute_result"
    }
   ],
   "source": [
    "'day' + ' 2'"
   ]
  },
  {
   "cell_type": "code",
   "execution_count": 10,
   "id": "914d47b9",
   "metadata": {},
   "outputs": [
    {
     "data": {
      "text/plain": [
       "'day 2'"
      ]
     },
     "execution_count": 10,
     "metadata": {},
     "output_type": "execute_result"
    }
   ],
   "source": [
    "'day 2'"
   ]
  },
  {
   "cell_type": "code",
   "execution_count": 11,
   "id": "c73a5502",
   "metadata": {},
   "outputs": [
    {
     "data": {
      "text/plain": [
       "'2 day'"
      ]
     },
     "execution_count": 11,
     "metadata": {},
     "output_type": "execute_result"
    }
   ],
   "source": [
    "'2 day'"
   ]
  },
  {
   "cell_type": "code",
   "execution_count": 12,
   "id": "da185b62",
   "metadata": {},
   "outputs": [
    {
     "data": {
      "text/plain": [
       "'2.0 day'"
      ]
     },
     "execution_count": 12,
     "metadata": {},
     "output_type": "execute_result"
    }
   ],
   "source": [
    "'2.0 day'"
   ]
  },
  {
   "cell_type": "code",
   "execution_count": 16,
   "id": "a8f29fd0",
   "metadata": {},
   "outputs": [
    {
     "data": {
      "text/plain": [
       "'day 2.0'"
      ]
     },
     "execution_count": 16,
     "metadata": {},
     "output_type": "execute_result"
    }
   ],
   "source": [
    "'day' + ' 2.0'"
   ]
  },
  {
   "cell_type": "markdown",
   "id": "9f842f0e",
   "metadata": {},
   "source": [
    "## list"
   ]
  },
  {
   "cell_type": "markdown",
   "id": "a0ff57bf",
   "metadata": {},
   "source": [
    "a list can hold any kind of data like integer, float, complex number, string,...etc."
   ]
  },
  {
   "cell_type": "code",
   "execution_count": 36,
   "id": "ac05a5b2",
   "metadata": {},
   "outputs": [],
   "source": [
    "l=[1,4,5,5]"
   ]
  },
  {
   "cell_type": "code",
   "execution_count": 37,
   "id": "ca70d685",
   "metadata": {},
   "outputs": [
    {
     "data": {
      "text/plain": [
       "[1, 4, 5, 5]"
      ]
     },
     "execution_count": 37,
     "metadata": {},
     "output_type": "execute_result"
    }
   ],
   "source": [
    "l"
   ]
  },
  {
   "cell_type": "code",
   "execution_count": 27,
   "id": "af919ea4",
   "metadata": {},
   "outputs": [],
   "source": [
    "l2=[1,4,5,5,'day']"
   ]
  },
  {
   "cell_type": "code",
   "execution_count": 28,
   "id": "55893622",
   "metadata": {},
   "outputs": [
    {
     "data": {
      "text/plain": [
       "[1, 4, 5, 5, 'day']"
      ]
     },
     "execution_count": 28,
     "metadata": {},
     "output_type": "execute_result"
    }
   ],
   "source": [
    "l2"
   ]
  },
  {
   "cell_type": "code",
   "execution_count": 29,
   "id": "a73962a8",
   "metadata": {},
   "outputs": [
    {
     "data": {
      "text/plain": [
       "[1, 4, 5, 5]"
      ]
     },
     "execution_count": 29,
     "metadata": {},
     "output_type": "execute_result"
    }
   ],
   "source": [
    "l"
   ]
  },
  {
   "cell_type": "code",
   "execution_count": 30,
   "id": "ccabaa88",
   "metadata": {},
   "outputs": [],
   "source": [
    "l3=[4,5.5,'murtuza',20+2j]"
   ]
  },
  {
   "cell_type": "code",
   "execution_count": 31,
   "id": "1f362432",
   "metadata": {},
   "outputs": [
    {
     "data": {
      "text/plain": [
       "[4, 5.5, 'murtuza', (20+2j)]"
      ]
     },
     "execution_count": 31,
     "metadata": {},
     "output_type": "execute_result"
    }
   ],
   "source": [
    "l3"
   ]
  },
  {
   "cell_type": "code",
   "execution_count": 43,
   "id": "f2733502",
   "metadata": {},
   "outputs": [],
   "source": [
    "l4=['murtuza']"
   ]
  },
  {
   "cell_type": "code",
   "execution_count": 47,
   "id": "5b1e08be",
   "metadata": {},
   "outputs": [
    {
     "data": {
      "text/plain": [
       "['murtuza']"
      ]
     },
     "execution_count": 47,
     "metadata": {},
     "output_type": "execute_result"
    }
   ],
   "source": [
    "l4"
   ]
  },
  {
   "cell_type": "code",
   "execution_count": 1,
   "id": "de2b73e7",
   "metadata": {},
   "outputs": [
    {
     "data": {
      "text/plain": [
       "['m', 'u', 'm', 't', 'a', 'z']"
      ]
     },
     "execution_count": 1,
     "metadata": {},
     "output_type": "execute_result"
    }
   ],
   "source": [
    "list('mumtaz')"
   ]
  },
  {
   "cell_type": "code",
   "execution_count": 43,
   "id": "c7a008d7",
   "metadata": {},
   "outputs": [
    {
     "name": "stdout",
     "output_type": "stream",
     "text": [
      "ghulam murtuza is a teacher and an engineer\n"
     ]
    }
   ],
   "source": [
    "print(\"ghulam murtuza\"+ ' is a teacher and an engineer')"
   ]
  },
  {
   "cell_type": "code",
   "execution_count": 45,
   "id": "695e4a73",
   "metadata": {},
   "outputs": [],
   "source": [
    "first_string  = ('Ghulam '   )\n",
    "second_string = ( 'Murtuza'  )\n",
    "third_string  = (' is '      )\n",
    "fourth_string = ('a teacher.')"
   ]
  },
  {
   "cell_type": "code",
   "execution_count": 46,
   "id": "c108c3c5",
   "metadata": {},
   "outputs": [
    {
     "name": "stdout",
     "output_type": "stream",
     "text": [
      "Ghulam Murtuza is a teacher.\n"
     ]
    }
   ],
   "source": [
    "print (first_string+ second_string + third_string + fourth_string)"
   ]
  },
  {
   "cell_type": "code",
   "execution_count": 35,
   "id": "1eba685c",
   "metadata": {},
   "outputs": [
    {
     "name": "stdout",
     "output_type": "stream",
     "text": [
      "420\n"
     ]
    }
   ],
   "source": [
    "print (420)"
   ]
  },
  {
   "cell_type": "code",
   "execution_count": 47,
   "id": "bf960dda",
   "metadata": {},
   "outputs": [
    {
     "data": {
      "text/plain": [
       "['C', 'H', 'A', 'S', 'S', 'U', 'M']"
      ]
     },
     "execution_count": 47,
     "metadata": {},
     "output_type": "execute_result"
    }
   ],
   "source": [
    "list('CHASSUM')"
   ]
  },
  {
   "cell_type": "code",
   "execution_count": 48,
   "id": "ed73ff35",
   "metadata": {},
   "outputs": [
    {
     "data": {
      "text/plain": [
       "['1', '2', '3', '4', '5', '6']"
      ]
     },
     "execution_count": 48,
     "metadata": {},
     "output_type": "execute_result"
    }
   ],
   "source": [
    "list('123456')"
   ]
  },
  {
   "cell_type": "code",
   "execution_count": 49,
   "id": "737047ac",
   "metadata": {},
   "outputs": [
    {
     "data": {
      "text/plain": [
       "['1', '2', '3', '4', '5', '6', 'k', 'h', 'h', 'g']"
      ]
     },
     "execution_count": 49,
     "metadata": {},
     "output_type": "execute_result"
    }
   ],
   "source": [
    "list(\"123456khhg\")"
   ]
  },
  {
   "cell_type": "code",
   "execution_count": 51,
   "id": "2b848714",
   "metadata": {},
   "outputs": [
    {
     "data": {
      "text/plain": [
       "['1', '2', '4', '5', 'k', 'j', 'h']"
      ]
     },
     "execution_count": 51,
     "metadata": {},
     "output_type": "execute_result"
    }
   ],
   "source": [
    "list ('1245kjh')"
   ]
  },
  {
   "cell_type": "code",
   "execution_count": 64,
   "id": "731d92b5",
   "metadata": {},
   "outputs": [],
   "source": [
    "marks = [12,54,26,54,54,85,29,9,6,96]"
   ]
  },
  {
   "cell_type": "code",
   "execution_count": 65,
   "id": "338b937f",
   "metadata": {},
   "outputs": [
    {
     "data": {
      "text/plain": [
       "[12, 54, 26, 54, 54, 85, 29, 9, 6, 96]"
      ]
     },
     "execution_count": 65,
     "metadata": {},
     "output_type": "execute_result"
    }
   ],
   "source": [
    "marks"
   ]
  },
  {
   "cell_type": "code",
   "execution_count": 66,
   "id": "eac0c484",
   "metadata": {},
   "outputs": [],
   "source": [
    "copy_marks = list(marks)"
   ]
  },
  {
   "cell_type": "code",
   "execution_count": 67,
   "id": "cc41bcd8",
   "metadata": {},
   "outputs": [
    {
     "data": {
      "text/plain": [
       "[12, 54, 26, 54, 54, 85, 29, 9, 6, 96]"
      ]
     },
     "execution_count": 67,
     "metadata": {},
     "output_type": "execute_result"
    }
   ],
   "source": [
    "copy_marks"
   ]
  },
  {
   "cell_type": "markdown",
   "id": "932153c7",
   "metadata": {},
   "source": [
    "### Append"
   ]
  },
  {
   "cell_type": "markdown",
   "id": "95e113ed",
   "metadata": {},
   "source": [
    "append is the process of adding the name at the end of a list."
   ]
  },
  {
   "cell_type": "code",
   "execution_count": 110,
   "id": "2412f378",
   "metadata": {},
   "outputs": [],
   "source": [
    "employee = []"
   ]
  },
  {
   "cell_type": "code",
   "execution_count": 111,
   "id": "b4d2d19e",
   "metadata": {},
   "outputs": [],
   "source": [
    "employee.append ('Radha')"
   ]
  },
  {
   "cell_type": "code",
   "execution_count": 112,
   "id": "594da2ac",
   "metadata": {},
   "outputs": [
    {
     "name": "stdout",
     "output_type": "stream",
     "text": [
      "['Radha']\n"
     ]
    }
   ],
   "source": [
    "print(employee)"
   ]
  },
  {
   "cell_type": "code",
   "execution_count": 113,
   "id": "f804e6f6",
   "metadata": {},
   "outputs": [],
   "source": [
    "employee.append('Mohan')\n",
    "employee.append('Raza')"
   ]
  },
  {
   "cell_type": "markdown",
   "id": "44994759",
   "metadata": {},
   "source": [
    "if i run the upper append cell as many times than at the added the name many times.\n",
    "so can run the code only one times."
   ]
  },
  {
   "cell_type": "code",
   "execution_count": 114,
   "id": "4b67f860",
   "metadata": {},
   "outputs": [
    {
     "name": "stdout",
     "output_type": "stream",
     "text": [
      "['Radha', 'Mohan', 'Raza']\n"
     ]
    }
   ],
   "source": [
    "print(employee)"
   ]
  },
  {
   "cell_type": "code",
   "execution_count": 115,
   "id": "0624ff50",
   "metadata": {},
   "outputs": [
    {
     "name": "stdout",
     "output_type": "stream",
     "text": [
      "['Radha', 'Mohan', 'Raza']\n"
     ]
    }
   ],
   "source": [
    "print(employee)"
   ]
  },
  {
   "cell_type": "markdown",
   "id": "7ea558c1",
   "metadata": {},
   "source": [
    "### Insert"
   ]
  },
  {
   "cell_type": "markdown",
   "id": "5815d85b",
   "metadata": {},
   "source": [
    "it is the process opf adding an string in between by using index.\n",
    "Syntax: insert (index, object) "
   ]
  },
  {
   "cell_type": "code",
   "execution_count": 116,
   "id": "63dadfa2",
   "metadata": {},
   "outputs": [],
   "source": [
    "employee.insert(1, 'Murtuza')"
   ]
  },
  {
   "cell_type": "code",
   "execution_count": 117,
   "id": "d8984336",
   "metadata": {},
   "outputs": [
    {
     "name": "stdout",
     "output_type": "stream",
     "text": [
      "['Radha', 'Murtuza', 'Mohan', 'Raza']\n"
     ]
    }
   ],
   "source": [
    "print(employee)"
   ]
  },
  {
   "cell_type": "code",
   "execution_count": 118,
   "id": "40733d84",
   "metadata": {},
   "outputs": [],
   "source": [
    "employee_salary = [15000, 20000, 35000]"
   ]
  },
  {
   "cell_type": "code",
   "execution_count": 119,
   "id": "79a75a85",
   "metadata": {},
   "outputs": [],
   "source": [
    "employee_salary.insert  (1, 45000)"
   ]
  },
  {
   "cell_type": "code",
   "execution_count": 120,
   "id": "b56e73e0",
   "metadata": {},
   "outputs": [
    {
     "data": {
      "text/plain": [
       "[15000, 45000, 20000, 35000]"
      ]
     },
     "execution_count": 120,
     "metadata": {},
     "output_type": "execute_result"
    }
   ],
   "source": [
    "employee_salary"
   ]
  },
  {
   "cell_type": "code",
   "execution_count": 121,
   "id": "86a75ec4",
   "metadata": {},
   "outputs": [
    {
     "data": {
      "text/plain": [
       "4"
      ]
     },
     "execution_count": 121,
     "metadata": {},
     "output_type": "execute_result"
    }
   ],
   "source": [
    "len (employee)"
   ]
  },
  {
   "cell_type": "markdown",
   "id": "f8953327",
   "metadata": {},
   "source": [
    "### Indexing and slicing "
   ]
  },
  {
   "cell_type": "markdown",
   "id": "798b8636",
   "metadata": {},
   "source": [
    "indexing number of elements \n",
    "from starting 0,1,2,3,4,5,6,7,8,9,..........\n",
    "from ending -1,-2,-3,-4,-5,-6,-7,-8,-9,........."
   ]
  },
  {
   "cell_type": "code",
   "execution_count": 122,
   "id": "be66e22c",
   "metadata": {},
   "outputs": [
    {
     "data": {
      "text/plain": [
       "'Murtuza'"
      ]
     },
     "execution_count": 122,
     "metadata": {},
     "output_type": "execute_result"
    }
   ],
   "source": [
    "# Grab element basaed on index number \n",
    "employee [1]"
   ]
  },
  {
   "cell_type": "code",
   "execution_count": 123,
   "id": "77d484ba",
   "metadata": {},
   "outputs": [
    {
     "data": {
      "text/plain": [
       "'Raza'"
      ]
     },
     "execution_count": 123,
     "metadata": {},
     "output_type": "execute_result"
    }
   ],
   "source": [
    "employee[-1]"
   ]
  },
  {
   "cell_type": "code",
   "execution_count": 124,
   "id": "f04e8772",
   "metadata": {},
   "outputs": [
    {
     "data": {
      "text/plain": [
       "['Radha', 'Murtuza', 'Banty', 'Raza']"
      ]
     },
     "execution_count": 124,
     "metadata": {},
     "output_type": "execute_result"
    }
   ],
   "source": [
    "# update the name of element on the basis of index no.\n",
    "employee [-2] = 'Banty'\n",
    "employee"
   ]
  },
  {
   "cell_type": "code",
   "execution_count": 125,
   "id": "cf55003f",
   "metadata": {},
   "outputs": [
    {
     "data": {
      "text/plain": [
       "[15000, 45000, 20000, 35000]"
      ]
     },
     "execution_count": 125,
     "metadata": {},
     "output_type": "execute_result"
    }
   ],
   "source": [
    "employee_salary"
   ]
  },
  {
   "cell_type": "code",
   "execution_count": 126,
   "id": "4dd57bf2",
   "metadata": {},
   "outputs": [],
   "source": [
    "employee_salary [-2] = 25000"
   ]
  },
  {
   "cell_type": "code",
   "execution_count": 127,
   "id": "0fb468c7",
   "metadata": {},
   "outputs": [
    {
     "data": {
      "text/plain": [
       "[15000, 45000, 25000, 35000]"
      ]
     },
     "execution_count": 127,
     "metadata": {},
     "output_type": "execute_result"
    }
   ],
   "source": [
    "employee_salary"
   ]
  },
  {
   "cell_type": "code",
   "execution_count": 129,
   "id": "bb121391",
   "metadata": {},
   "outputs": [
    {
     "data": {
      "text/plain": [
       "['Murtuza', 'Banty', 'Raza']"
      ]
     },
     "execution_count": 129,
     "metadata": {},
     "output_type": "execute_result"
    }
   ],
   "source": [
    "# In bracket[starting is including (1): end is excluding]\n",
    "employee[1:]"
   ]
  },
  {
   "cell_type": "code",
   "execution_count": 130,
   "id": "5f68748b",
   "metadata": {},
   "outputs": [
    {
     "data": {
      "text/plain": [
       "['Murtuza']"
      ]
     },
     "execution_count": 130,
     "metadata": {},
     "output_type": "execute_result"
    }
   ],
   "source": [
    "# In bracket[starting is including : end is excluding]\n",
    "employee[1:2]"
   ]
  },
  {
   "cell_type": "code",
   "execution_count": 132,
   "id": "93dc49e2",
   "metadata": {},
   "outputs": [
    {
     "data": {
      "text/plain": [
       "['Radha', 'Murtuza']"
      ]
     },
     "execution_count": 132,
     "metadata": {},
     "output_type": "execute_result"
    }
   ],
   "source": [
    "employee[:2]"
   ]
  },
  {
   "cell_type": "code",
   "execution_count": 133,
   "id": "8bddf9d6",
   "metadata": {},
   "outputs": [
    {
     "data": {
      "text/plain": [
       "[15000, 45000, 25000, 35000, 40000]"
      ]
     },
     "execution_count": 133,
     "metadata": {},
     "output_type": "execute_result"
    }
   ],
   "source": [
    "employee_salary + [40000]"
   ]
  },
  {
   "cell_type": "code",
   "execution_count": 134,
   "id": "b68ac613",
   "metadata": {},
   "outputs": [
    {
     "data": {
      "text/plain": [
       "[15000, 45000, 25000, 35000]"
      ]
     },
     "execution_count": 134,
     "metadata": {},
     "output_type": "execute_result"
    }
   ],
   "source": [
    "employee_salary"
   ]
  },
  {
   "cell_type": "code",
   "execution_count": 135,
   "id": "0a546bc9",
   "metadata": {},
   "outputs": [],
   "source": [
    "# for permanent adding the data\n",
    "employee_salary = employee_salary + [40000]"
   ]
  },
  {
   "cell_type": "code",
   "execution_count": 136,
   "id": "6a4a2844",
   "metadata": {},
   "outputs": [
    {
     "data": {
      "text/plain": [
       "[15000, 45000, 25000, 35000, 40000]"
      ]
     },
     "execution_count": 136,
     "metadata": {},
     "output_type": "execute_result"
    }
   ],
   "source": [
    "employee_salary"
   ]
  },
  {
   "cell_type": "code",
   "execution_count": null,
   "id": "57fe0f84",
   "metadata": {},
   "outputs": [],
   "source": []
  },
  {
   "cell_type": "code",
   "execution_count": 147,
   "id": "2c04a63c",
   "metadata": {},
   "outputs": [
    {
     "name": "stdout",
     "output_type": "stream",
     "text": [
      "====================================================================================================\n",
      "                             C  H  A  S  S  U  M                    \n",
      "====================================================================================================\n"
     ]
    }
   ],
   "source": [
    "print ('=' * 100)\n",
    "print ('                             C  H  A  S  S  U  M                    ')\n",
    "print ('=' * 100)"
   ]
  },
  {
   "cell_type": "markdown",
   "id": "f9669416",
   "metadata": {},
   "source": [
    "###  COUNT"
   ]
  },
  {
   "cell_type": "code",
   "execution_count": 148,
   "id": "8c6d568f",
   "metadata": {},
   "outputs": [],
   "source": [
    "marks = [25,36,54,12,45,32,29,81,25,78,67,45,69,25,45]"
   ]
  },
  {
   "cell_type": "code",
   "execution_count": 149,
   "id": "1fd9fa64",
   "metadata": {},
   "outputs": [
    {
     "data": {
      "text/plain": [
       "[25, 36, 54, 12, 45, 32, 29, 81, 25, 78, 67, 45, 69, 25, 45]"
      ]
     },
     "execution_count": 149,
     "metadata": {},
     "output_type": "execute_result"
    }
   ],
   "source": [
    "marks"
   ]
  },
  {
   "cell_type": "code",
   "execution_count": 151,
   "id": "362ecc98",
   "metadata": {},
   "outputs": [
    {
     "data": {
      "text/plain": [
       "15"
      ]
     },
     "execution_count": 151,
     "metadata": {},
     "output_type": "execute_result"
    }
   ],
   "source": [
    "len (marks)"
   ]
  },
  {
   "cell_type": "code",
   "execution_count": 152,
   "id": "f005c3a0",
   "metadata": {},
   "outputs": [
    {
     "data": {
      "text/plain": [
       "3"
      ]
     },
     "execution_count": 152,
     "metadata": {},
     "output_type": "execute_result"
    }
   ],
   "source": [
    "marks.count(25)"
   ]
  },
  {
   "cell_type": "markdown",
   "id": "ae603da5",
   "metadata": {},
   "source": [
    "### Index"
   ]
  },
  {
   "cell_type": "code",
   "execution_count": 153,
   "id": "c5efe86d",
   "metadata": {},
   "outputs": [
    {
     "data": {
      "text/plain": [
       "0"
      ]
     },
     "execution_count": 153,
     "metadata": {},
     "output_type": "execute_result"
    }
   ],
   "source": [
    "marks.index(25)"
   ]
  },
  {
   "cell_type": "code",
   "execution_count": 154,
   "id": "1c97182f",
   "metadata": {},
   "outputs": [
    {
     "data": {
      "text/plain": [
       "7"
      ]
     },
     "execution_count": 154,
     "metadata": {},
     "output_type": "execute_result"
    }
   ],
   "source": [
    "marks.index(81)"
   ]
  },
  {
   "cell_type": "markdown",
   "id": "ed8e1269",
   "metadata": {},
   "source": [
    "### Extend"
   ]
  },
  {
   "cell_type": "code",
   "execution_count": 155,
   "id": "427ea8c0",
   "metadata": {},
   "outputs": [
    {
     "data": {
      "text/plain": [
       "['Radha', 'Murtuza', 'Banty', 'Raza']"
      ]
     },
     "execution_count": 155,
     "metadata": {},
     "output_type": "execute_result"
    }
   ],
   "source": [
    "employee"
   ]
  },
  {
   "cell_type": "code",
   "execution_count": 156,
   "id": "5435a620",
   "metadata": {},
   "outputs": [],
   "source": [
    "employee.append('Golu')"
   ]
  },
  {
   "cell_type": "code",
   "execution_count": 157,
   "id": "b8689d0a",
   "metadata": {},
   "outputs": [
    {
     "data": {
      "text/plain": [
       "['Radha', 'Murtuza', 'Banty', 'Raza', 'Golu']"
      ]
     },
     "execution_count": 157,
     "metadata": {},
     "output_type": "execute_result"
    }
   ],
   "source": [
    "employee"
   ]
  },
  {
   "cell_type": "code",
   "execution_count": 162,
   "id": "e923a5a4",
   "metadata": {},
   "outputs": [],
   "source": [
    "# for adding more than two elements \n",
    "# we need use extend arguments\n",
    "employee.append(['Ahmad', 'Tinku'])"
   ]
  },
  {
   "cell_type": "code",
   "execution_count": 160,
   "id": "7cf25468",
   "metadata": {},
   "outputs": [
    {
     "data": {
      "text/plain": [
       "['Radha', 'Murtuza', 'Banty', 'Raza', 'Golu', ['Ahmad', 'Tinku']]"
      ]
     },
     "execution_count": 160,
     "metadata": {},
     "output_type": "execute_result"
    }
   ],
   "source": [
    "employee"
   ]
  },
  {
   "cell_type": "code",
   "execution_count": 164,
   "id": "1aa54f5f",
   "metadata": {},
   "outputs": [],
   "source": [
    "employee.extend (['Gautam' , 'Avinas'])"
   ]
  },
  {
   "cell_type": "code",
   "execution_count": 166,
   "id": "4bb305bb",
   "metadata": {},
   "outputs": [
    {
     "name": "stdout",
     "output_type": "stream",
     "text": [
      "['Radha', 'Murtuza', 'Banty', 'Raza', 'Golu', ['Ahmad', 'Tinku'], ['Ahmad', 'Tinku'], 'Gautam', 'Avinas']\n"
     ]
    }
   ],
   "source": [
    "print(employee) "
   ]
  },
  {
   "cell_type": "markdown",
   "id": "0ff05bac",
   "metadata": {},
   "source": [
    "### POP"
   ]
  },
  {
   "cell_type": "code",
   "execution_count": 168,
   "id": "c8d3f3c9",
   "metadata": {},
   "outputs": [],
   "source": [
    "students = ['Abid', 'Sufiya','Nancy', 'Ram', 'Babul', 'Chand', 'Nilu']"
   ]
  },
  {
   "cell_type": "code",
   "execution_count": 169,
   "id": "dfb33b7a",
   "metadata": {},
   "outputs": [
    {
     "data": {
      "text/plain": [
       "['Abid', 'Sufiya', 'Nancy', 'Ram', 'Babul', 'Chand', 'Nilu']"
      ]
     },
     "execution_count": 169,
     "metadata": {},
     "output_type": "execute_result"
    }
   ],
   "source": [
    "students"
   ]
  },
  {
   "cell_type": "code",
   "execution_count": 170,
   "id": "ac01ce5d",
   "metadata": {},
   "outputs": [],
   "source": [
    "pop_last = students.pop()"
   ]
  },
  {
   "cell_type": "code",
   "execution_count": 171,
   "id": "96d5838b",
   "metadata": {},
   "outputs": [
    {
     "data": {
      "text/plain": [
       "'Nilu'"
      ]
     },
     "execution_count": 171,
     "metadata": {},
     "output_type": "execute_result"
    }
   ],
   "source": [
    "pop_last"
   ]
  },
  {
   "cell_type": "code",
   "execution_count": 172,
   "id": "1bd04d83",
   "metadata": {},
   "outputs": [
    {
     "data": {
      "text/plain": [
       "['Abid', 'Sufiya', 'Nancy', 'Ram', 'Babul', 'Chand']"
      ]
     },
     "execution_count": 172,
     "metadata": {},
     "output_type": "execute_result"
    }
   ],
   "source": [
    "students"
   ]
  },
  {
   "cell_type": "code",
   "execution_count": 175,
   "id": "b001d567",
   "metadata": {},
   "outputs": [],
   "source": [
    "students = ['Abid', 'Sufiya','Nancy', 'Ram', 'Babul', 'Chand', 'Nilu']"
   ]
  },
  {
   "cell_type": "code",
   "execution_count": 176,
   "id": "bc6729b0",
   "metadata": {},
   "outputs": [
    {
     "data": {
      "text/plain": [
       "['Abid', 'Sufiya', 'Nancy', 'Ram', 'Babul', 'Chand', 'Nilu']"
      ]
     },
     "execution_count": 176,
     "metadata": {},
     "output_type": "execute_result"
    }
   ],
   "source": [
    "students"
   ]
  },
  {
   "cell_type": "code",
   "execution_count": 178,
   "id": "e759943c",
   "metadata": {},
   "outputs": [],
   "source": [
    "pop_index = students.pop(1)"
   ]
  },
  {
   "cell_type": "code",
   "execution_count": 179,
   "id": "9ca2fcd2",
   "metadata": {},
   "outputs": [
    {
     "data": {
      "text/plain": [
       "['Abid', 'Nancy', 'Ram', 'Babul', 'Chand', 'Nilu']"
      ]
     },
     "execution_count": 179,
     "metadata": {},
     "output_type": "execute_result"
    }
   ],
   "source": [
    "students"
   ]
  },
  {
   "cell_type": "markdown",
   "id": "e6eb328e",
   "metadata": {},
   "source": [
    "### REMOVE"
   ]
  },
  {
   "cell_type": "code",
   "execution_count": 185,
   "id": "f5e9ad0e",
   "metadata": {},
   "outputs": [],
   "source": [
    "roll_number =[100,101,102,103,104,100,106,105]"
   ]
  },
  {
   "cell_type": "code",
   "execution_count": 186,
   "id": "5db52955",
   "metadata": {},
   "outputs": [],
   "source": [
    "# if there are repeating number than first one will be deleted\n",
    "roll_number.remove(100)"
   ]
  },
  {
   "cell_type": "code",
   "execution_count": 187,
   "id": "3f178f26",
   "metadata": {},
   "outputs": [
    {
     "data": {
      "text/plain": [
       "[101, 102, 103, 104, 100, 106, 105]"
      ]
     },
     "execution_count": 187,
     "metadata": {},
     "output_type": "execute_result"
    }
   ],
   "source": [
    "roll_number"
   ]
  },
  {
   "cell_type": "markdown",
   "id": "a6209509",
   "metadata": {},
   "source": [
    "### REVERSE"
   ]
  },
  {
   "cell_type": "code",
   "execution_count": 188,
   "id": "cd216e24",
   "metadata": {},
   "outputs": [],
   "source": [
    "list =[10,12,14,15,11,13,19,1,8,18,19]"
   ]
  },
  {
   "cell_type": "code",
   "execution_count": 189,
   "id": "7ded7250",
   "metadata": {},
   "outputs": [],
   "source": [
    "list.reverse()"
   ]
  },
  {
   "cell_type": "code",
   "execution_count": 190,
   "id": "89c5c8ab",
   "metadata": {},
   "outputs": [
    {
     "data": {
      "text/plain": [
       "[19, 18, 8, 1, 19, 13, 11, 15, 14, 12, 10]"
      ]
     },
     "execution_count": 190,
     "metadata": {},
     "output_type": "execute_result"
    }
   ],
   "source": [
    "list"
   ]
  },
  {
   "cell_type": "markdown",
   "id": "b300e98c",
   "metadata": {},
   "source": [
    "### SORT"
   ]
  },
  {
   "cell_type": "markdown",
   "id": "7bca7499",
   "metadata": {},
   "source": [
    "it arrange the list in asscending order."
   ]
  },
  {
   "cell_type": "code",
   "execution_count": 191,
   "id": "be8a9b78",
   "metadata": {},
   "outputs": [],
   "source": [
    "marks = [25,85,69,47,36,58,86,39,49,98,95,73,72,81]"
   ]
  },
  {
   "cell_type": "code",
   "execution_count": 192,
   "id": "9e83c485",
   "metadata": {},
   "outputs": [],
   "source": [
    "marks.sort()"
   ]
  },
  {
   "cell_type": "code",
   "execution_count": 193,
   "id": "ed64479e",
   "metadata": {},
   "outputs": [
    {
     "data": {
      "text/plain": [
       "[25, 36, 39, 47, 49, 58, 69, 72, 73, 81, 85, 86, 95, 98]"
      ]
     },
     "execution_count": 193,
     "metadata": {},
     "output_type": "execute_result"
    }
   ],
   "source": [
    "marks"
   ]
  },
  {
   "cell_type": "code",
   "execution_count": 194,
   "id": "aaf59dd1",
   "metadata": {},
   "outputs": [],
   "source": [
    "marks.reverse()"
   ]
  },
  {
   "cell_type": "code",
   "execution_count": 195,
   "id": "f1a02059",
   "metadata": {},
   "outputs": [
    {
     "data": {
      "text/plain": [
       "[98, 95, 86, 85, 81, 73, 72, 69, 58, 49, 47, 39, 36, 25]"
      ]
     },
     "execution_count": 195,
     "metadata": {},
     "output_type": "execute_result"
    }
   ],
   "source": [
    "marks"
   ]
  },
  {
   "cell_type": "markdown",
   "id": "e58334ca",
   "metadata": {},
   "source": [
    "## TUPLES\n",
    "     It use () and it is immutable in tuple we can not edit the data\n",
    "     but list use [], it is muttable means we can edit the data in list."
   ]
  },
  {
   "cell_type": "code",
   "execution_count": 40,
   "id": "3be58615",
   "metadata": {},
   "outputs": [
    {
     "data": {
      "text/plain": [
       "('Banglore', 'Hyderabad', 'Patna', 'Chenni', 'Mansi', 'Phulwaria')"
      ]
     },
     "execution_count": 40,
     "metadata": {},
     "output_type": "execute_result"
    }
   ],
   "source": [
    "work_location =('Banglore', 'Hyderabad', 'Patna', 'Chenni', 'Mansi', 'Phulwaria')\n",
    "work_location"
   ]
  },
  {
   "cell_type": "code",
   "execution_count": 41,
   "id": "d3590040",
   "metadata": {},
   "outputs": [
    {
     "data": {
      "text/plain": [
       "6"
      ]
     },
     "execution_count": 41,
     "metadata": {},
     "output_type": "execute_result"
    }
   ],
   "source": [
    "len(work_location)"
   ]
  },
  {
   "cell_type": "code",
   "execution_count": 42,
   "id": "4a05c5d1",
   "metadata": {},
   "outputs": [
    {
     "data": {
      "text/plain": [
       "tuple"
      ]
     },
     "execution_count": 42,
     "metadata": {},
     "output_type": "execute_result"
    }
   ],
   "source": [
    "type(work_location)"
   ]
  },
  {
   "cell_type": "code",
   "execution_count": 43,
   "id": "ee8911c6",
   "metadata": {},
   "outputs": [
    {
     "ename": "AttributeError",
     "evalue": "'tuple' object has no attribute 'append'",
     "output_type": "error",
     "traceback": [
      "\u001b[1;31m---------------------------------------------------------------------------\u001b[0m",
      "\u001b[1;31mAttributeError\u001b[0m                            Traceback (most recent call last)",
      "\u001b[1;32mC:\\Users\\GHULAM~1\\AppData\\Local\\Temp/ipykernel_8220/386533817.py\u001b[0m in \u001b[0;36m<module>\u001b[1;34m\u001b[0m\n\u001b[1;32m----> 1\u001b[1;33m \u001b[0mwork_location\u001b[0m\u001b[1;33m.\u001b[0m\u001b[0mappend\u001b[0m\u001b[1;33m(\u001b[0m\u001b[1;34m'Goa'\u001b[0m\u001b[1;33m)\u001b[0m\u001b[1;33m\u001b[0m\u001b[1;33m\u001b[0m\u001b[0m\n\u001b[0m",
      "\u001b[1;31mAttributeError\u001b[0m: 'tuple' object has no attribute 'append'"
     ]
    }
   ],
   "source": [
    "work_location.append('Goa')"
   ]
  },
  {
   "cell_type": "markdown",
   "id": "47cfa5d8",
   "metadata": {},
   "source": [
    "we can not add any element in tupple"
   ]
  },
  {
   "cell_type": "code",
   "execution_count": 44,
   "id": "acc111fe",
   "metadata": {},
   "outputs": [],
   "source": [
    "#so first we covert the tuple in list.\n",
    "work_location = list(work_location)"
   ]
  },
  {
   "cell_type": "code",
   "execution_count": 45,
   "id": "4b5c8e12",
   "metadata": {},
   "outputs": [
    {
     "data": {
      "text/plain": [
       "['Banglore', 'Hyderabad', 'Patna', 'Chenni', 'Mansi', 'Phulwaria']"
      ]
     },
     "execution_count": 45,
     "metadata": {},
     "output_type": "execute_result"
    }
   ],
   "source": [
    "work_location"
   ]
  },
  {
   "cell_type": "code",
   "execution_count": 46,
   "id": "2f6e0c36",
   "metadata": {},
   "outputs": [
    {
     "data": {
      "text/plain": [
       "list"
      ]
     },
     "execution_count": 46,
     "metadata": {},
     "output_type": "execute_result"
    }
   ],
   "source": [
    "type(work_location)"
   ]
  },
  {
   "cell_type": "code",
   "execution_count": 47,
   "id": "55a4c203",
   "metadata": {},
   "outputs": [],
   "source": [
    "work_location.append('Goa')"
   ]
  },
  {
   "cell_type": "code",
   "execution_count": 48,
   "id": "b779f8f8",
   "metadata": {},
   "outputs": [],
   "source": [
    "work_location[4] = 'Rayeen Nagar'"
   ]
  },
  {
   "cell_type": "code",
   "execution_count": 49,
   "id": "7c5aa178",
   "metadata": {},
   "outputs": [],
   "source": [
    "work_location = list(work_location)"
   ]
  },
  {
   "cell_type": "code",
   "execution_count": 50,
   "id": "e78f8ee7",
   "metadata": {},
   "outputs": [],
   "source": [
    "work_location = tuple(work_location)"
   ]
  },
  {
   "cell_type": "code",
   "execution_count": 51,
   "id": "801e5a5b",
   "metadata": {},
   "outputs": [
    {
     "data": {
      "text/plain": [
       "tuple"
      ]
     },
     "execution_count": 51,
     "metadata": {},
     "output_type": "execute_result"
    }
   ],
   "source": [
    "type(work_location)"
   ]
  },
  {
   "cell_type": "code",
   "execution_count": 52,
   "id": "a4a98825",
   "metadata": {},
   "outputs": [
    {
     "data": {
      "text/plain": [
       "('Banglore',\n",
       " 'Hyderabad',\n",
       " 'Patna',\n",
       " 'Chenni',\n",
       " 'Rayeen Nagar',\n",
       " 'Phulwaria',\n",
       " 'Goa')"
      ]
     },
     "execution_count": 52,
     "metadata": {},
     "output_type": "execute_result"
    }
   ],
   "source": [
    "work_location"
   ]
  },
  {
   "cell_type": "code",
   "execution_count": 60,
   "id": "d413c998",
   "metadata": {},
   "outputs": [
    {
     "data": {
      "text/plain": [
       "'Patna'"
      ]
     },
     "execution_count": 60,
     "metadata": {},
     "output_type": "execute_result"
    }
   ],
   "source": [
    "work_location[2]"
   ]
  },
  {
   "cell_type": "code",
   "execution_count": 55,
   "id": "2499f931",
   "metadata": {},
   "outputs": [],
   "source": [
    "work_location=list(work_location)"
   ]
  },
  {
   "cell_type": "code",
   "execution_count": 57,
   "id": "42163fea",
   "metadata": {},
   "outputs": [
    {
     "data": {
      "text/plain": [
       "['Banglore',\n",
       " 'Hyderabad',\n",
       " 'Patna',\n",
       " 'Chenni',\n",
       " 'Rayeen Nagar',\n",
       " 'Phulwaria',\n",
       " 'Goa']"
      ]
     },
     "execution_count": 57,
     "metadata": {},
     "output_type": "execute_result"
    }
   ],
   "source": [
    "work_location"
   ]
  },
  {
   "cell_type": "code",
   "execution_count": 59,
   "id": "5d1288d6",
   "metadata": {},
   "outputs": [
    {
     "data": {
      "text/plain": [
       "'Patna'"
      ]
     },
     "execution_count": 59,
     "metadata": {},
     "output_type": "execute_result"
    }
   ],
   "source": [
    "work_location[2]"
   ]
  },
  {
   "cell_type": "markdown",
   "id": "065f2939",
   "metadata": {},
   "source": [
    "### Set"
   ]
  },
  {
   "cell_type": "code",
   "execution_count": 73,
   "id": "878a0ce5",
   "metadata": {},
   "outputs": [],
   "source": [
    "roll_number = set()"
   ]
  },
  {
   "cell_type": "code",
   "execution_count": 74,
   "id": "329e349c",
   "metadata": {},
   "outputs": [
    {
     "data": {
      "text/plain": [
       "set()"
      ]
     },
     "execution_count": 74,
     "metadata": {},
     "output_type": "execute_result"
    }
   ],
   "source": [
    "roll_number"
   ]
  },
  {
   "cell_type": "code",
   "execution_count": 76,
   "id": "b8f2a208",
   "metadata": {},
   "outputs": [],
   "source": [
    "# we add an element with add method\n",
    "roll_number.add(1)"
   ]
  },
  {
   "cell_type": "code",
   "execution_count": 77,
   "id": "b196215a",
   "metadata": {},
   "outputs": [
    {
     "data": {
      "text/plain": [
       "{1}"
      ]
     },
     "execution_count": 77,
     "metadata": {},
     "output_type": "execute_result"
    }
   ],
   "source": [
    "roll_number"
   ]
  },
  {
   "cell_type": "code",
   "execution_count": 78,
   "id": "66b10c75",
   "metadata": {},
   "outputs": [],
   "source": [
    "# we add an another element with add method\n",
    "roll_number.add(2)"
   ]
  },
  {
   "cell_type": "code",
   "execution_count": 79,
   "id": "4366e8ac",
   "metadata": {},
   "outputs": [
    {
     "data": {
      "text/plain": [
       "{1, 2}"
      ]
     },
     "execution_count": 79,
     "metadata": {},
     "output_type": "execute_result"
    }
   ],
   "source": [
    "roll_number"
   ]
  },
  {
   "cell_type": "code",
   "execution_count": 81,
   "id": "93428839",
   "metadata": {},
   "outputs": [],
   "source": [
    "# we add a duplicate element with add method\n",
    "roll_number.add(1)"
   ]
  },
  {
   "cell_type": "code",
   "execution_count": 82,
   "id": "c1d52d09",
   "metadata": {},
   "outputs": [
    {
     "data": {
      "text/plain": [
       "{1, 2}"
      ]
     },
     "execution_count": 82,
     "metadata": {},
     "output_type": "execute_result"
    }
   ],
   "source": [
    "# it will show only one element \n",
    "roll_number"
   ]
  },
  {
   "cell_type": "code",
   "execution_count": 86,
   "id": "56985036",
   "metadata": {},
   "outputs": [],
   "source": [
    "roll_number = [1,3,4,6,4,8,9,4,1,4,3,2,7,9]"
   ]
  },
  {
   "cell_type": "code",
   "execution_count": 87,
   "id": "f4786336",
   "metadata": {},
   "outputs": [
    {
     "data": {
      "text/plain": [
       "[1, 3, 4, 6, 4, 8, 9, 4, 1, 4, 3, 2, 7, 9]"
      ]
     },
     "execution_count": 87,
     "metadata": {},
     "output_type": "execute_result"
    }
   ],
   "source": [
    "roll_number"
   ]
  },
  {
   "cell_type": "code",
   "execution_count": 88,
   "id": "34c315e0",
   "metadata": {},
   "outputs": [
    {
     "data": {
      "text/plain": [
       "{1, 2, 3, 4, 6, 7, 8, 9}"
      ]
     },
     "execution_count": 88,
     "metadata": {},
     "output_type": "execute_result"
    }
   ],
   "source": [
    "# set show all the elements only one time\n",
    "set(roll_number)"
   ]
  },
  {
   "cell_type": "markdown",
   "id": "a7db866e",
   "metadata": {},
   "source": [
    "### Dictionary"
   ]
  },
  {
   "cell_type": "code",
   "execution_count": 139,
   "id": "f7a77aec",
   "metadata": {},
   "outputs": [],
   "source": [
    "dictionary = {'roll_number' : 216, 'subject' : ['Maths', 'Science', 'English'], 'marks': [88,75,72]}"
   ]
  },
  {
   "cell_type": "code",
   "execution_count": 140,
   "id": "cc7f9187",
   "metadata": {},
   "outputs": [
    {
     "data": {
      "text/plain": [
       "{'roll_number': 216,\n",
       " 'subject': ['Maths', 'Science', 'English'],\n",
       " 'marks': [88, 75, 72]}"
      ]
     },
     "execution_count": 140,
     "metadata": {},
     "output_type": "execute_result"
    }
   ],
   "source": [
    "dictionary"
   ]
  },
  {
   "cell_type": "code",
   "execution_count": 141,
   "id": "deb6f4a8",
   "metadata": {},
   "outputs": [
    {
     "data": {
      "text/plain": [
       "['Maths', 'Science', 'English']"
      ]
     },
     "execution_count": 141,
     "metadata": {},
     "output_type": "execute_result"
    }
   ],
   "source": [
    "dictionary['subject']"
   ]
  },
  {
   "cell_type": "code",
   "execution_count": 142,
   "id": "cab79c6d",
   "metadata": {},
   "outputs": [
    {
     "data": {
      "text/plain": [
       "'English'"
      ]
     },
     "execution_count": 142,
     "metadata": {},
     "output_type": "execute_result"
    }
   ],
   "source": [
    "dictionary['subject'][2]"
   ]
  },
  {
   "cell_type": "code",
   "execution_count": 143,
   "id": "1e6ba8e1",
   "metadata": {},
   "outputs": [
    {
     "data": {
      "text/plain": [
       "88"
      ]
     },
     "execution_count": 143,
     "metadata": {},
     "output_type": "execute_result"
    }
   ],
   "source": [
    "dictionary['marks'][0]"
   ]
  },
  {
   "cell_type": "code",
   "execution_count": 144,
   "id": "9e0404b9",
   "metadata": {},
   "outputs": [
    {
     "data": {
      "text/plain": [
       "'MATHS'"
      ]
     },
     "execution_count": 144,
     "metadata": {},
     "output_type": "execute_result"
    }
   ],
   "source": [
    "dictionary['subject'][0].upper()"
   ]
  },
  {
   "cell_type": "code",
   "execution_count": 145,
   "id": "53ea64f9",
   "metadata": {},
   "outputs": [
    {
     "data": {
      "text/plain": [
       "'english'"
      ]
     },
     "execution_count": 145,
     "metadata": {},
     "output_type": "execute_result"
    }
   ],
   "source": [
    "dictionary['subject'][2].lower()"
   ]
  },
  {
   "cell_type": "code",
   "execution_count": 146,
   "id": "09db966a",
   "metadata": {},
   "outputs": [],
   "source": [
    "dictionary['marks'][0] = dictionary['marks'][0] +30"
   ]
  },
  {
   "cell_type": "code",
   "execution_count": 147,
   "id": "63146b8b",
   "metadata": {},
   "outputs": [
    {
     "data": {
      "text/plain": [
       "[118, 75, 72]"
      ]
     },
     "execution_count": 147,
     "metadata": {},
     "output_type": "execute_result"
    }
   ],
   "source": [
    "dictionary['marks']"
   ]
  },
  {
   "cell_type": "code",
   "execution_count": 148,
   "id": "efe2b178",
   "metadata": {},
   "outputs": [],
   "source": [
    "dictionary['marks'][1] += 10"
   ]
  },
  {
   "cell_type": "code",
   "execution_count": 149,
   "id": "1081c82b",
   "metadata": {},
   "outputs": [
    {
     "data": {
      "text/plain": [
       "[118, 85, 72]"
      ]
     },
     "execution_count": 149,
     "metadata": {},
     "output_type": "execute_result"
    }
   ],
   "source": [
    "dictionary['marks']"
   ]
  },
  {
   "cell_type": "code",
   "execution_count": 150,
   "id": "7002ec2f",
   "metadata": {},
   "outputs": [],
   "source": [
    "dictionary['marks'][2] -=2"
   ]
  },
  {
   "cell_type": "code",
   "execution_count": 151,
   "id": "5e13df61",
   "metadata": {},
   "outputs": [
    {
     "data": {
      "text/plain": [
       "[118, 85, 70]"
      ]
     },
     "execution_count": 151,
     "metadata": {},
     "output_type": "execute_result"
    }
   ],
   "source": [
    "dictionary['marks']"
   ]
  },
  {
   "cell_type": "code",
   "execution_count": null,
   "id": "9943fa3f",
   "metadata": {},
   "outputs": [],
   "source": []
  },
  {
   "cell_type": "code",
   "execution_count": 160,
   "id": "edf12ecd",
   "metadata": {},
   "outputs": [],
   "source": [
    "# Create a new dictionary\n",
    "d = {}"
   ]
  },
  {
   "cell_type": "code",
   "execution_count": 161,
   "id": "6f60c835",
   "metadata": {},
   "outputs": [
    {
     "data": {
      "text/plain": [
       "{}"
      ]
     },
     "execution_count": 161,
     "metadata": {},
     "output_type": "execute_result"
    }
   ],
   "source": [
    "d"
   ]
  },
  {
   "cell_type": "code",
   "execution_count": 162,
   "id": "b00ca529",
   "metadata": {},
   "outputs": [],
   "source": [
    "d  ['NAME'] ='Sagar'"
   ]
  },
  {
   "cell_type": "code",
   "execution_count": 163,
   "id": "47bcf597",
   "metadata": {},
   "outputs": [
    {
     "data": {
      "text/plain": [
       "{'NAME': 'Sagar'}"
      ]
     },
     "execution_count": 163,
     "metadata": {},
     "output_type": "execute_result"
    }
   ],
   "source": [
    "d"
   ]
  },
  {
   "cell_type": "code",
   "execution_count": 164,
   "id": "7a786d4d",
   "metadata": {},
   "outputs": [],
   "source": [
    "d['salary'] = '30000'"
   ]
  },
  {
   "cell_type": "code",
   "execution_count": 165,
   "id": "2c728074",
   "metadata": {},
   "outputs": [
    {
     "data": {
      "text/plain": [
       "{'NAME': 'Sagar', 'salary': '30000'}"
      ]
     },
     "execution_count": 165,
     "metadata": {},
     "output_type": "execute_result"
    }
   ],
   "source": [
    "d"
   ]
  },
  {
   "cell_type": "code",
   "execution_count": null,
   "id": "7148c81b",
   "metadata": {},
   "outputs": [],
   "source": []
  },
  {
   "cell_type": "code",
   "execution_count": 171,
   "id": "95c33d1b",
   "metadata": {},
   "outputs": [],
   "source": [
    "# take an another example of dictionary \n",
    "dictionary = {'roll_number' : 216, 'subject' : ['Maths', 'Science', 'English'], 'marks': [88,75,72]}"
   ]
  },
  {
   "cell_type": "code",
   "execution_count": 172,
   "id": "4b2f51ba",
   "metadata": {},
   "outputs": [
    {
     "data": {
      "text/plain": [
       "dict_keys(['roll_number', 'subject', 'marks'])"
      ]
     },
     "execution_count": 172,
     "metadata": {},
     "output_type": "execute_result"
    }
   ],
   "source": [
    "dictionary.keys()"
   ]
  },
  {
   "cell_type": "code",
   "execution_count": 173,
   "id": "4683097b",
   "metadata": {},
   "outputs": [
    {
     "data": {
      "text/plain": [
       "dict_values([216, ['Maths', 'Science', 'English'], [88, 75, 72]])"
      ]
     },
     "execution_count": 173,
     "metadata": {},
     "output_type": "execute_result"
    }
   ],
   "source": [
    "dictionary.values()"
   ]
  },
  {
   "cell_type": "code",
   "execution_count": 174,
   "id": "a67c8b1e",
   "metadata": {},
   "outputs": [
    {
     "data": {
      "text/plain": [
       "dict_items([('roll_number', 216), ('subject', ['Maths', 'Science', 'English']), ('marks', [88, 75, 72])])"
      ]
     },
     "execution_count": 174,
     "metadata": {},
     "output_type": "execute_result"
    }
   ],
   "source": [
    "dictionary.items()"
   ]
  },
  {
   "cell_type": "code",
   "execution_count": 175,
   "id": "92683ca0",
   "metadata": {},
   "outputs": [
    {
     "name": "stdout",
     "output_type": "stream",
     "text": [
      "('roll_number', 216)\n",
      "('subject', ['Maths', 'Science', 'English'])\n",
      "('marks', [88, 75, 72])\n"
     ]
    }
   ],
   "source": [
    "for key in dictionary.items():\n",
    "    print (key)"
   ]
  },
  {
   "cell_type": "code",
   "execution_count": null,
   "id": "42fa3853",
   "metadata": {},
   "outputs": [],
   "source": []
  }
 ],
 "metadata": {
  "kernelspec": {
   "display_name": "Python 3 (ipykernel)",
   "language": "python",
   "name": "python3"
  },
  "language_info": {
   "codemirror_mode": {
    "name": "ipython",
    "version": 3
   },
   "file_extension": ".py",
   "mimetype": "text/x-python",
   "name": "python",
   "nbconvert_exporter": "python",
   "pygments_lexer": "ipython3",
   "version": "3.9.7"
  }
 },
 "nbformat": 4,
 "nbformat_minor": 5
}
